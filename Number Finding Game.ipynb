{
 "cells": [
  {
   "cell_type": "code",
   "execution_count": 2,
   "id": "54e3c628-1d02-4dab-935f-26b04d6a44fc",
   "metadata": {},
   "outputs": [
    {
     "name": "stdout",
     "output_type": "stream",
     "text": [
      "Oyuna hoş geldiniz!\n",
      "1 ile 100 arasında tahmin edeceyiniz bir sayı tutdum. Tahmin edip eğlenceli zaman geçirmeğe ne dersiniz?\n"
     ]
    },
    {
     "name": "stdin",
     "output_type": "stream",
     "text": [
      "Tahmin etdiğiniz sayıyı girin:  50\n"
     ]
    },
    {
     "name": "stdout",
     "output_type": "stream",
     "text": [
      "Daha küçük bir sayı girin\n"
     ]
    },
    {
     "name": "stdin",
     "output_type": "stream",
     "text": [
      "Tahmin etdiğiniz sayıyı girin:  25\n"
     ]
    },
    {
     "name": "stdout",
     "output_type": "stream",
     "text": [
      "Daha küçük bir sayı girin\n"
     ]
    },
    {
     "name": "stdin",
     "output_type": "stream",
     "text": [
      "Tahmin etdiğiniz sayıyı girin:  12\n"
     ]
    },
    {
     "name": "stdout",
     "output_type": "stream",
     "text": [
      "Daha küçük bir sayı girin\n"
     ]
    },
    {
     "name": "stdin",
     "output_type": "stream",
     "text": [
      "Tahmin etdiğiniz sayıyı girin:  1\n"
     ]
    },
    {
     "name": "stdout",
     "output_type": "stream",
     "text": [
      "Daha büyük bir sayı girin:\n"
     ]
    },
    {
     "name": "stdin",
     "output_type": "stream",
     "text": [
      "Tahmin etdiğiniz sayıyı girin:  5\n"
     ]
    },
    {
     "name": "stdout",
     "output_type": "stream",
     "text": [
      "Tebrikler! 5. deneme sonunda doğru sayıyı bula bilidiniz. 🎉🎉🎉\n"
     ]
    }
   ],
   "source": [
    "import random\n",
    "\n",
    "def finding_number():\n",
    "    print(\"Oyuna hoş geldiniz!\")\n",
    "    print(\"1 ile 100 arasında tahmin edeceyiniz bir sayı tutdum. Tahmin edip eğlenceli zaman geçirmeğe ne dersiniz?\")\n",
    "\n",
    "    comp_num = random.randint(1,100)\n",
    "    \n",
    "    guess_num = 0\n",
    "    while True:\n",
    "        try:\n",
    "            guess = int(input(\"Tahmin etdiğiniz sayıyı girin: \"))\n",
    "        except ValueError:\n",
    "            print(\"Lütfen geçerli bir sayı girin.\")\n",
    "            continue\n",
    "\n",
    "        guess_num += 1\n",
    "\n",
    "        if guess < comp_num:\n",
    "            print(\"Daha büyük bir sayı girin:\")\n",
    "        elif guess > comp_num:\n",
    "            print(\"Daha küçük bir sayı girin\")\n",
    "        else:\n",
    "            print(f\"Tebrikler! {guess_num}. deneme sonunda doğru sayıyı bula bilidiniz. 🎉🎉🎉\")\n",
    "            break\n",
    "\n",
    "finding_number()\n",
    "    \n",
    "\n",
    "\n",
    "\n",
    "\n",
    "\n",
    "\n",
    "\n",
    "    "
   ]
  },
  {
   "cell_type": "code",
   "execution_count": null,
   "id": "8089d664-843b-48ad-b624-3cca5b3693b1",
   "metadata": {},
   "outputs": [],
   "source": []
  },
  {
   "cell_type": "code",
   "execution_count": null,
   "id": "937f42a2-4f57-427b-bf06-48caf2110e16",
   "metadata": {},
   "outputs": [],
   "source": []
  }
 ],
 "metadata": {
  "kernelspec": {
   "display_name": "Python 3 (ipykernel)",
   "language": "python",
   "name": "python3"
  },
  "language_info": {
   "codemirror_mode": {
    "name": "ipython",
    "version": 3
   },
   "file_extension": ".py",
   "mimetype": "text/x-python",
   "name": "python",
   "nbconvert_exporter": "python",
   "pygments_lexer": "ipython3",
   "version": "3.11.5"
  }
 },
 "nbformat": 4,
 "nbformat_minor": 5
}
